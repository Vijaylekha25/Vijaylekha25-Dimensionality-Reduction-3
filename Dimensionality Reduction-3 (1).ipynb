{
 "cells": [
  {
   "cell_type": "markdown",
   "id": "9e1efe19-4b5f-408a-8346-e792049769c8",
   "metadata": {},
   "source": [
    "Q1. What are Eigenvalues and Eigenvectors? How are they related to the Eigen-Decomposition approach?\n",
    "Explain with an example.\n"
   ]
  },
  {
   "cell_type": "markdown",
   "id": "4b0e5899-1953-46b9-a6ec-3bd1b46285ff",
   "metadata": {},
   "source": [
    " Eigenvalues and eigenvectors are concepts in linear algebra that are closely related to the Eigen-Decomposition approach.\n",
    "\n",
    "Eigenvalues are scalars that represent the scaling factor of the eigenvectors when a linear transformation is applied. Eigenvectors are non-zero vectors that remain in the same direction (though possibly scaled) after the linear transformation.\n",
    "\n",
    "Eigen-Decomposition is an approach to decompose a square matrix into its eigenvalues and eigenvectors. It's expressed as \n",
    "=\n",
    "Λ\n",
    "−\n",
    "1\n",
    "A=QΛQ \n",
    "−1\n",
    " , where \n",
    "A is the original matrix, \n",
    "Q is a matrix whose columns are the eigenvectors of \n",
    "A, and \n",
    "Λ\n",
    "Λ is a diagonal matrix containing the eigenvalues of \n",
    "A.\n",
    "\n",
    "For example, consider the matrix:\n",
    "=\n",
    "[\n",
    "3\n",
    "1\n",
    "1\n",
    "3\n",
    "]\n",
    "A=[ \n",
    "3\n",
    "1\n",
    "​\n",
    "  \n",
    "1\n",
    "3\n",
    "​\n",
    " ]\n",
    "\n",
    "By finding the eigenvalues and eigenvectors of \n",
    "A, we can decompose it using the Eigen-Decomposition approach."
   ]
  },
  {
   "cell_type": "markdown",
   "id": "e340f14c-6f75-4c09-9ad8-dd9829d81b9d",
   "metadata": {},
   "source": [
    "\n",
    "Q2. What is eigen decomposition and what is its significance in linear algebra?\n"
   ]
  },
  {
   "cell_type": "markdown",
   "id": "c1246a00-cc4d-4c6d-a1ec-852fa17c9ca8",
   "metadata": {},
   "source": [
    "Eigen decomposition is a method used to decompose a square matrix into its constituent parts of eigenvalues and eigenvectors. In linear algebra, it holds significance as it provides a way to analyze and understand the behavior of linear transformations represented by matrices. It is often used in various mathematical and computational applications, including solving systems of linear differential equations and analyzing stability in dynamical systems."
   ]
  },
  {
   "cell_type": "markdown",
   "id": "06fe9a44-39ba-46b6-aeb2-4a2358d58bf4",
   "metadata": {},
   "source": [
    "\n",
    "Q3. What are the conditions that must be satisfied for a square matrix to be diagonalizable using the\n",
    "Eigen-Decomposition approach? Provide a brief proof to support your answer.\n"
   ]
  },
  {
   "cell_type": "markdown",
   "id": "7da84c8f-ce35-4af0-a801-624ae8d9202a",
   "metadata": {},
   "source": [
    "A square matrix is diagonalizable using the Eigen-Decomposition approach if and only if it has a full set of linearly independent eigenvectors. Mathematically, this means that the matrix must have \n",
    "n linearly independent eigenvectors, where \n",
    "n is the size of the matrix.\n",
    "Proof: Let \n",
    "A be an \n",
    "×\n",
    "n×n matrix. If \n",
    "A has \n",
    "n linearly independent eigenvectors, then these eigenvectors form a basis for \n",
    "R \n",
    "n\n",
    " . Consequently, we can construct the matrix \n",
    "Q with these eigenvectors as its columns. Since \n",
    "Q is invertible (because its columns are linearly independent), we can diagonalize \n",
    "A using \n",
    "Q as described in the Eigen-Decomposition approach."
   ]
  },
  {
   "cell_type": "markdown",
   "id": "bb46c91c-70ab-48b2-9a7b-2b478db863cc",
   "metadata": {},
   "source": [
    "\n",
    "Q4. What is the significance of the spectral theorem in the context of the Eigen-Decomposition approach?\n",
    "How is it related to the diagonalizability of a matrix? Explain with an example.\n"
   ]
  },
  {
   "cell_type": "markdown",
   "id": "40157bba-5e13-43a4-b230-0c46ef7b422b",
   "metadata": {},
   "source": [
    "The spectral theorem states that for any symmetric matrix, the eigenvectors are orthogonal and the eigenvalues are real. This theorem is significant in the context of Eigen-Decomposition because it guarantees that for a symmetric matrix, we can always find a full set of orthogonal eigenvectors, which makes the matrix diagonalizable.\n",
    "\n",
    "For example, consider the matrix:\n",
    "=\n",
    "[\n",
    "4\n",
    "1\n",
    "1\n",
    "4\n",
    "]\n",
    "A=[ \n",
    "4\n",
    "1\n",
    "​\n",
    "  \n",
    "1\n",
    "4\n",
    "​\n",
    " ]\n",
    "\n",
    "This matrix is symmetric, and its eigenvalues are 3 and 5, with corresponding eigenvectors [1, 1] and [1, -1]."
   ]
  },
  {
   "cell_type": "markdown",
   "id": "1248bce6-c156-4e71-80ae-2424a100e178",
   "metadata": {},
   "source": [
    "Q5. How do you find the eigenvalues of a matrix and what do they represent?"
   ]
  },
  {
   "cell_type": "markdown",
   "id": "098be048-a4a3-4664-a14f-4e2852f5d46d",
   "metadata": {},
   "source": [
    "Eigenvalues of a matrix can be found by solving the characteristic equation \n",
    "det\n",
    "(\n",
    "−\n",
    ")\n",
    "=\n",
    "0\n",
    "det(A−λI)=0, where \n",
    "A is the matrix, \n",
    "λ is the eigenvalue, and \n",
    "I is the identity matrix. Eigenvalues represent the scaling factor by which the corresponding eigenvectors are scaled when operated on by the matrix."
   ]
  },
  {
   "cell_type": "markdown",
   "id": "8736d78f-396e-46b6-a82e-43c34aefee6b",
   "metadata": {},
   "source": [
    "\n",
    "Q6. What are eigenvectors and how are they related to eigenvalues?\n"
   ]
  },
  {
   "cell_type": "markdown",
   "id": "be059ad9-8c5b-4cb3-950a-d39777dd4239",
   "metadata": {},
   "source": [
    " Eigenvectors are non-zero vectors that, when operated on by a matrix, are only scaled, not rotated. They are related to eigenvalues through the equation\n",
    "=\n",
    "Av=λv, where \n",
    "A is the matrix, \n",
    "v is the eigenvector, and \n",
    "λ is the eigenvalue."
   ]
  },
  {
   "cell_type": "markdown",
   "id": "35e4fc32-65b7-4500-9da4-866ffef29a01",
   "metadata": {},
   "source": [
    "Q7. Can you explain the geometric interpretation of eigenvectors and eigenvalues?"
   ]
  },
  {
   "cell_type": "markdown",
   "id": "dde05d05-689a-4cce-b5df-82760f3ade7c",
   "metadata": {},
   "source": [
    "Geometrically, eigenvectors represent directions in space that are preserved by a linear transformation, while eigenvalues represent the scaling factor along those directions. In other words, when a matrix operates on an eigenvector, it merely stretches or compresses it without changing its direction."
   ]
  },
  {
   "cell_type": "markdown",
   "id": "40db0bc7-a613-45e9-b17b-b6f8c836d77d",
   "metadata": {},
   "source": [
    "Q8. What are some real-world applications of eigen decomposition?"
   ]
  },
  {
   "cell_type": "markdown",
   "id": "1003e592-dea0-47fa-9d26-aa15ab8aec7c",
   "metadata": {},
   "source": [
    " Eigen decomposition has various real-world applications, including image compression, signal processing, quantum mechanics, and graph theory. For instance, in image compression, eigen decomposition can be used to reduce the dimensionality of images while retaining the most important features."
   ]
  },
  {
   "cell_type": "markdown",
   "id": "ea5d9491-fc37-4f84-8e5b-508eb57c9771",
   "metadata": {},
   "source": [
    "Q9. Can a matrix have more than one set of eigenvectors and eigenvalues?"
   ]
  },
  {
   "cell_type": "markdown",
   "id": "dfa6bfab-641e-4a48-97ec-7f4a4d114f28",
   "metadata": {},
   "source": [
    "Yes, a matrix can have more than one set of eigenvectors and eigenvalues. However, these sets are unique only up to a scalar multiple. Different sets of eigenvectors may correspond to the same eigenvalues."
   ]
  },
  {
   "cell_type": "markdown",
   "id": "76bb822d-920c-4a0c-b145-48655a4f8cda",
   "metadata": {},
   "source": [
    "Q10. In what ways is the Eigen-Decomposition approach useful in data analysis and machine learning?\n",
    "Discuss at least three specific applications or techniques that rely on Eigen-Decomposition."
   ]
  },
  {
   "cell_type": "markdown",
   "id": "6e7e86be-3e2b-447c-8c47-6e757d40d038",
   "metadata": {},
   "source": [
    " Eigen-Decomposition is useful in data analysis and machine learning in several ways:\n",
    "\n",
    "1.Principal Component Analysis (PCA): PCA utilizes Eigen-Decomposition to find the principal components of a dataset, which are orthogonal vectors representing the directions of maximum variance. It is widely used for dimensionality reduction and feature extraction.\n",
    "\n",
    "\n",
    "2.Eigenfaces: In facial recognition systems, Eigen-Decomposition can be used to represent faces as linear combinations of basis images called \"eigenfaces,\" allowing for efficient face recognition and classification.\n",
    "\n",
    "\n",
    "2.Graph-based algorithms: Eigen-Decomposition plays a crucial role in graph-based algorithms such as PageRank, which is used by search engines to rank web pages based on their importance. By computing the dominant eigenvector of the transition matrix representing the web graph, PageRank determines the importance of each web page.\n",
    "\n",
    "\n",
    "\n",
    "\n",
    "\n",
    "\n"
   ]
  },
  {
   "cell_type": "code",
   "execution_count": null,
   "id": "2f278fd2-74cc-4142-b3c6-8316759f1e3d",
   "metadata": {},
   "outputs": [],
   "source": []
  }
 ],
 "metadata": {
  "kernelspec": {
   "display_name": "Python 3 (ipykernel)",
   "language": "python",
   "name": "python3"
  },
  "language_info": {
   "codemirror_mode": {
    "name": "ipython",
    "version": 3
   },
   "file_extension": ".py",
   "mimetype": "text/x-python",
   "name": "python",
   "nbconvert_exporter": "python",
   "pygments_lexer": "ipython3",
   "version": "3.12.2"
  }
 },
 "nbformat": 4,
 "nbformat_minor": 5
}
